{
 "cells": [
  {
   "cell_type": "markdown",
   "id": "3fd5a63a",
   "metadata": {},
   "source": [
    "### Your friend has opened a new Food Blogging handle on Instagram and wants to get famous. He wants to follow a lot of people so that he can get noticed quickly but it is a tedious task so he asks you to help him. As you have just learned automation using Selenium, you decided to help him by creating an Instagram Bot."
   ]
  },
  {
   "cell_type": "code",
   "execution_count": null,
   "id": "ff02fd3c",
   "metadata": {},
   "outputs": [],
   "source": [
    "from selenium import webdriver\n",
    "from selenium.webdriver.chrome.service import Service\n",
    "from webdriver_manager.chrome import ChromeDriverManager\n",
    "import warnings\n",
    "warnings.filterwarnings(\"ignore\", category=DeprecationWarning)\n",
    "# s=Service(ChromeDriverManager().install())\n",
    "from selenium.webdriver.support.ui import WebDriverWait\n",
    "from selenium.webdriver.support import expected_conditions as EC\n",
    "from selenium.webdriver.chrome.service import Service\n",
    "from webdriver_manager.chrome import ChromeDriverManager\n",
    "from selenium.webdriver.common.by import By\n",
    "from selenium.webdriver.common.keys import Keys\n",
    "from selenium.webdriver.support.ui import WebDriverWait\n",
    "from selenium.webdriver.support import expected_conditions as EC\n",
    "import time\n",
    "from bs4 import BeautifulSoup\n",
    "from selenium.common.exceptions import NoSuchElementException\n",
    "from selenium.common.exceptions import TimeoutException"
   ]
  },
  {
   "cell_type": "markdown",
   "id": "48b752fd",
   "metadata": {},
   "source": [
    "# Login to your Instagram Handle"
   ]
  },
  {
   "cell_type": "code",
   "execution_count": null,
   "id": "ce8d3cf0",
   "metadata": {},
   "outputs": [],
   "source": [
    "driver = webdriver.Edge()\n",
    "driver.get('https://www.instagram.com/')"
   ]
  },
  {
   "cell_type": "code",
   "execution_count": null,
   "id": "e6d8b6da",
   "metadata": {},
   "outputs": [],
   "source": [
    "wait = WebDriverWait(driver, 20)"
   ]
  },
  {
   "cell_type": "code",
   "execution_count": null,
   "id": "347eb9ad",
   "metadata": {},
   "outputs": [],
   "source": [
    "#enter username\n",
    "a  = wait.until(EC.presence_of_element_located((By.NAME, \"username\")))\n",
    "a.send_keys(\"SAMPLE USERNAME\")\n",
    "time.sleep(2)\n",
    "\n",
    "#enter password\n",
    "a = driver.find_element(By.NAME, \"password\")\n",
    "a.send_keys(\"SAMPLE PASSWORD\")\n",
    "time.sleep(2)\n",
    "\n",
    "#click on submit button\n",
    "a  = wait.until(EC.presence_of_element_located((By.TAG_NAME, \"button\")))\n",
    "a.submit()\n",
    "time.sleep(10)"
   ]
  },
  {
   "cell_type": "code",
   "execution_count": null,
   "id": "27541b56",
   "metadata": {},
   "outputs": [],
   "source": [
    "# close pop up (aksing do you want to save password)\n",
    "\n",
    "try:\n",
    "    b = wait.until(EC.presence_of_element_located((By.CLASS_NAME, \"_ac8f\")))\n",
    "    # b = driver.find_element(By.CLASS_NAME, \"_ac8f\")\n",
    "    b.click()\n",
    "    time.sleep(2)\n",
    "except TimeoutException:\n",
    "    print('No Pop up to save password') "
   ]
  },
  {
   "cell_type": "code",
   "execution_count": null,
   "id": "5c4ae28a",
   "metadata": {},
   "outputs": [],
   "source": [
    "# close notification pop up\n",
    "\n",
    "a = wait.until(EC.presence_of_all_elements_located((By.TAG_NAME, \"button\")))[-1]\n",
    "# a = driver.find_elements(By.TAG_NAME, \"button\")[-1]\n",
    "a.click()\n",
    "time.sleep(2)"
   ]
  },
  {
   "cell_type": "markdown",
   "id": "0f77258a",
   "metadata": {},
   "source": [
    "# Type for “food” in search bar and print all the names of the Instagram Handles that are displayed in list after typing “food”"
   ]
  },
  {
   "cell_type": "code",
   "execution_count": null,
   "id": "9144340b",
   "metadata": {},
   "outputs": [],
   "source": [
    "#click on search button\n",
    "b = wait.until(EC.presence_of_element_located((By.XPATH, \"//div[@class = 'x1iyjqo2 xh8yej3']/div[2]\")))\n",
    "b.click()"
   ]
  },
  {
   "cell_type": "code",
   "execution_count": null,
   "id": "a249a23d",
   "metadata": {},
   "outputs": [],
   "source": [
    "# search food\n",
    "c = wait.until(EC.presence_of_element_located((By.XPATH, \"//div[@class = 'xjoudau x6s0dn4 x78zum5 xdt5ytf x1c4vz4f xs83m0k xrf2nzk x1n2onr6 xh8yej3 x1hq5gj4']/input\")))\n",
    "c.send_keys(\"food\")\n",
    "time.sleep(5)"
   ]
  },
  {
   "cell_type": "code",
   "execution_count": null,
   "id": "61396d65",
   "metadata": {},
   "outputs": [],
   "source": [
    "b = wait.until(EC.presence_of_all_elements_located((By.XPATH, \"//div[@class = 'x6s0dn4 x78zum5 xdt5ytf x5yr21d x1odjw0f x1n2onr6 xh8yej3']/div/a/div/div/div/div[2]/div/div/div/span\")))"
   ]
  },
  {
   "cell_type": "code",
   "execution_count": null,
   "id": "abf649aa",
   "metadata": {},
   "outputs": [],
   "source": [
    "# print all the names\n",
    "\n",
    "for i in b:\n",
    "    print(i.get_attribute('innerHTML'))"
   ]
  },
  {
   "cell_type": "code",
   "execution_count": null,
   "id": "42ea0cfe",
   "metadata": {},
   "outputs": [],
   "source": [
    "c.clear()\n",
    "time.sleep(2)\n",
    "\n",
    "# clear all the searches so that you can search for next profile"
   ]
  },
  {
   "cell_type": "markdown",
   "id": "06d8fbc5",
   "metadata": {},
   "source": [
    "# 3. Searching and Opening a profile of \"So Delhi\""
   ]
  },
  {
   "cell_type": "code",
   "execution_count": null,
   "id": "5b5ec397",
   "metadata": {},
   "outputs": [],
   "source": [
    "a = wait.until(EC.presence_of_element_located((By.XPATH, \"//div[@class = 'xjoudau x6s0dn4 x78zum5 xdt5ytf x1c4vz4f xs83m0k xrf2nzk x1n2onr6 xh8yej3 x1hq5gj4']/input\")))\n",
    "a.send_keys(\"So Delhi\")\n",
    "time.sleep(4)"
   ]
  },
  {
   "cell_type": "markdown",
   "id": "5172b310",
   "metadata": {},
   "source": [
    "# 4. Follow/Unfollow given handle - "
   ]
  },
  {
   "cell_type": "markdown",
   "id": "3c7a91fa",
   "metadata": {},
   "source": [
    "### A. Open the Instagram Handle of “So Delhi” "
   ]
  },
  {
   "cell_type": "code",
   "execution_count": null,
   "id": "67b4f3b8",
   "metadata": {},
   "outputs": [],
   "source": [
    "a = wait.until(EC.presence_of_element_located((By.XPATH, \"//div[@class = 'x9f619 x78zum5 xdt5ytf x1iyjqo2 x6ikm8r x1odjw0f xh8yej3 xocp1fn']/a\")))\n",
    "a.click()\n",
    "time.sleep(5)"
   ]
  },
  {
   "cell_type": "markdown",
   "id": "29f3a2ce",
   "metadata": {},
   "source": [
    "### B. Start following it. Print a message if you are already following"
   ]
  },
  {
   "cell_type": "code",
   "execution_count": null,
   "id": "d594c688",
   "metadata": {},
   "outputs": [],
   "source": [
    "a = wait.until(EC.presence_of_element_located((By.XPATH, \"//div[@class = 'x9f619 xjbqb8w x78zum5 x168nmei x13lgxp2 x5pf9jr xo71vjh x1i64zmx x1n2onr6 x1plvlek xryxfnj x1iyjqo2 x2lwn1j xeuugli xdt5ytf xqjyukv x1qjc9v5 x1oa3qoh x1nhvcw1']\")))"
   ]
  },
  {
   "cell_type": "code",
   "execution_count": null,
   "id": "0530fd33",
   "metadata": {},
   "outputs": [],
   "source": [
    "if a.text == 'Follow':\n",
    "    a.click()\n",
    "else:\n",
    "    print(\"you are already following!!\")\n",
    "time.sleep(4)"
   ]
  },
  {
   "cell_type": "code",
   "execution_count": null,
   "id": "d43854dc",
   "metadata": {},
   "outputs": [],
   "source": [
    "a = wait.until(EC.presence_of_element_located((By.XPATH, \"//div[@class = 'x9f619 xjbqb8w x78zum5 x168nmei x13lgxp2 x5pf9jr xo71vjh x1i64zmx x1n2onr6 x1plvlek xryxfnj x1iyjqo2 x2lwn1j xeuugli xdt5ytf xqjyukv x1qjc9v5 x1oa3qoh x1nhvcw1']\")))\n",
    "f = a.text\n",
    "f"
   ]
  },
  {
   "cell_type": "markdown",
   "id": "3e408497",
   "metadata": {},
   "source": [
    "### C. After following, unfollow the instagram handle. Print a message if you have already unfollowed."
   ]
  },
  {
   "cell_type": "code",
   "execution_count": null,
   "id": "f39832ec",
   "metadata": {},
   "outputs": [],
   "source": [
    "if f=='Following':\n",
    "    a.click()\n",
    "    b = wait.until(EC.presence_of_element_located((By.XPATH, \"//div[@class = 'x9f619 xjbqb8w x78zum5 x168nmei x13lgxp2 x5pf9jr xo71vjh x1n2onr6 xw2csxc x1odjw0f x1iyjqo2 x2lwn1j xeuugli xdt5ytf xqjyukv x1qjc9v5 x1oa3qoh x1nhvcw1']/div[8]\")))\n",
    "    b.click()\n",
    "else:\n",
    "    print(\"you have already unfollowed!!\")\n",
    "time.sleep(4)"
   ]
  },
  {
   "cell_type": "markdown",
   "id": "1576f5cd",
   "metadata": {},
   "source": [
    "# 5. Like/Unlike posts"
   ]
  },
  {
   "cell_type": "code",
   "execution_count": null,
   "id": "8ad7ea01",
   "metadata": {},
   "outputs": [],
   "source": [
    "# search for dilsefoodie\n",
    "\n",
    "b = wait.until(EC.presence_of_element_located((By.XPATH, \"//div[@class = 'x1iyjqo2 xh8yej3']/div[2]\")))\n",
    "b.click()\n",
    "time.sleep(2)"
   ]
  },
  {
   "cell_type": "code",
   "execution_count": null,
   "id": "0f71a883",
   "metadata": {},
   "outputs": [],
   "source": [
    "c = wait.until(EC.presence_of_element_located((By.XPATH, \"//div[@class = 'xjoudau x6s0dn4 x78zum5 xdt5ytf x1c4vz4f xs83m0k xrf2nzk x1n2onr6 xh8yej3 x1hq5gj4']/input\")))\n",
    "c.send_keys(\"dilsefoodie\")\n",
    "time.sleep(5)"
   ]
  },
  {
   "cell_type": "code",
   "execution_count": null,
   "id": "c21e5a54",
   "metadata": {},
   "outputs": [],
   "source": [
    "a = wait.until(EC.presence_of_element_located((By.XPATH, \"//div[@class = 'x9f619 x78zum5 xdt5ytf x1iyjqo2 x6ikm8r x1odjw0f xh8yej3 xocp1fn']/a\")))\n",
    "a.click()\n",
    "time.sleep(5)"
   ]
  },
  {
   "cell_type": "code",
   "execution_count": null,
   "id": "2705482f",
   "metadata": {},
   "outputs": [],
   "source": [
    "#a = wait.until(EC.presence_of_all_elements_located((By.XPATH,\"//div[@class = '_ac7v  _al3n']//div[@class = '_aabd _aa8k  _al3l']\")))"
   ]
  },
  {
   "cell_type": "code",
   "execution_count": null,
   "id": "8ac3da34",
   "metadata": {},
   "outputs": [],
   "source": [
    "driver.execute_script('window.scrollBy(0, 3000);')\n",
    "time.sleep(3)\n",
    "driver.execute_script('window.scrollBy(0, 3000);')\n",
    "time.sleep(3)\n",
    "driver.execute_script('window.scrollBy(0, 3000);')\n",
    "time.sleep(3)"
   ]
  },
  {
   "cell_type": "code",
   "execution_count": null,
   "id": "95f91fd8",
   "metadata": {},
   "outputs": [],
   "source": [
    "a = wait.until(EC.presence_of_all_elements_located((By.XPATH,\"//div[@class = '_ac7v  _al3n']/div[@class = '_aabd _aa8k  _al3l']\")))"
   ]
  },
  {
   "cell_type": "markdown",
   "id": "641c2571",
   "metadata": {},
   "source": [
    "### Liking the top 30 posts of the ‘dilsefoodie'. Print message if you have already liked it."
   ]
  },
  {
   "cell_type": "code",
   "execution_count": null,
   "id": "2a982f69",
   "metadata": {},
   "outputs": [],
   "source": [
    "count = 1\n",
    "for i in a:\n",
    "    i.click()\n",
    "    time.sleep(3.5)\n",
    "    g = wait.until(EC.presence_of_element_located((By.XPATH, \"//span[@class = '_aamw']/div/div/span\")))\n",
    "    g = g.get_attribute('innerHTML')\n",
    "    data = BeautifulSoup(g,'html.parser')\n",
    "    title = data.title.text\n",
    "    if title == 'Like':\n",
    "        like_button = wait.until(EC.presence_of_element_located((By.XPATH, \"//span[@class = '_aamw']\")))\n",
    "        like_button.click()\n",
    "        if count==30:\n",
    "            print('LIKED ALL (30) POST!!')\n",
    "            close =  wait.until(EC.presence_of_element_located((By.XPATH,\"//div[@class='x160vmok x10l6tqk x1eu8d0j x1vjfegm']\")))\n",
    "            time.sleep(3.5)\n",
    "            close.click()\n",
    "            break\n",
    "#     elif count==30:\n",
    "#         break\n",
    "    else:\n",
    "        print('you have already liked it!!')\n",
    "        if count==30:\n",
    "            print('LIKED ALL (30) POST!!')\n",
    "            close =  wait.until(EC.presence_of_element_located((By.XPATH,\"//div[@class='x160vmok x10l6tqk x1eu8d0j x1vjfegm']\")))\n",
    "            time.sleep(3.5)\n",
    "            close.click()\n",
    "            break\n",
    "    close =  wait.until(EC.presence_of_element_located((By.XPATH,\"//div[@class='x160vmok x10l6tqk x1eu8d0j x1vjfegm']\")))\n",
    "    time.sleep(3.5)\n",
    "    close.click()\n",
    "    print(count)\n",
    "    count +=1"
   ]
  },
  {
   "cell_type": "markdown",
   "id": "a9f8da96",
   "metadata": {},
   "source": [
    "### Unliking the top 30 posts of the ‘dilsefoodie’. Print message if you have already unliked it."
   ]
  },
  {
   "cell_type": "code",
   "execution_count": null,
   "id": "aa44884f",
   "metadata": {},
   "outputs": [],
   "source": [
    "a = wait.until(EC.presence_of_all_elements_located((By.XPATH,\"//div[@class = '_ac7v  _al3n']/div[@class = '_aabd _aa8k  _al3l']\")))"
   ]
  },
  {
   "cell_type": "code",
   "execution_count": null,
   "id": "fb491043",
   "metadata": {},
   "outputs": [],
   "source": [
    "count = 1\n",
    "for i in a:\n",
    "    i.click()\n",
    "    time.sleep(6)\n",
    "    g = wait.until(EC.presence_of_element_located((By.XPATH, \"//span[@class = '_aamw']/div/div/span\")))\n",
    "    g = g.get_attribute('innerHTML')\n",
    "    data = BeautifulSoup(g,'html.parser')\n",
    "    title = data.title.text\n",
    "    print(title)\n",
    "    if title == 'Unlike':\n",
    "        like_button = wait.until(EC.presence_of_element_located((By.XPATH, \"//span[@class = '_aamw']\")))\n",
    "        like_button.click()\n",
    "        if count==30:\n",
    "            print('LIKED ALL (30) POST!!')\n",
    "            close =  wait.until(EC.presence_of_element_located((By.XPATH,\"//div[@class='x160vmok x10l6tqk x1eu8d0j x1vjfegm']\")))\n",
    "            time.sleep(3.5)\n",
    "            close.click()\n",
    "            break\n",
    "#     elif count==30:\n",
    "#         break\n",
    "    else:\n",
    "        print('you have already Unliked it!!')\n",
    "        if count==30:\n",
    "            print('LIKED ALL (30) POST!!')\n",
    "            close =  wait.until(EC.presence_of_element_located((By.XPATH,\"//div[@class='x160vmok x10l6tqk x1eu8d0j x1vjfegm']\")))\n",
    "            time.sleep(4)\n",
    "            close.click()\n",
    "            break\n",
    "    close =  wait.until(EC.presence_of_element_located((By.XPATH,\"//div[@class='x160vmok x10l6tqk x1eu8d0j x1vjfegm']\")))\n",
    "    time.sleep(4)\n",
    "    close.click()\n",
    "    count +=1"
   ]
  },
  {
   "cell_type": "markdown",
   "id": "8686d39e",
   "metadata": {},
   "source": [
    "# 6. Extract list of followers"
   ]
  },
  {
   "cell_type": "markdown",
   "id": "ecc5b8a8",
   "metadata": {},
   "source": [
    "### 1. Extract the usernames of the first 500 followers of ‘foodtalkindia’ and ‘sodelhi’."
   ]
  },
  {
   "cell_type": "code",
   "execution_count": null,
   "id": "5410c768",
   "metadata": {},
   "outputs": [],
   "source": [
    "a = wait.until(EC.presence_of_element_located((By.XPATH, \"//div[@class = 'x1iyjqo2 xh8yej3']/div[2]\")))\n",
    "a.click()"
   ]
  },
  {
   "cell_type": "code",
   "execution_count": null,
   "id": "8e22a6dc",
   "metadata": {},
   "outputs": [],
   "source": [
    "c = wait.until(EC.presence_of_element_located((By.XPATH, \"//div[@class = 'xjoudau x6s0dn4 x78zum5 xdt5ytf x1c4vz4f xs83m0k xrf2nzk x1n2onr6 xh8yej3 x1hq5gj4']/input\")))\n",
    "c.send_keys(\"foodtalkindia\")\n",
    "time.sleep(5)"
   ]
  },
  {
   "cell_type": "code",
   "execution_count": null,
   "id": "b5dbe982",
   "metadata": {},
   "outputs": [],
   "source": [
    "a = wait.until(EC.presence_of_element_located((By.XPATH, \"//div[@class = 'x9f619 x78zum5 xdt5ytf x1iyjqo2 x6ikm8r x1odjw0f xh8yej3 xocp1fn']/a\")))\n",
    "a.click()\n",
    "time.sleep(5)"
   ]
  },
  {
   "cell_type": "code",
   "execution_count": null,
   "id": "ac002f19",
   "metadata": {},
   "outputs": [],
   "source": [
    "a = wait.until(EC.presence_of_element_located((By.XPATH, \"//ul[@class = 'x78zum5 x1q0g3np xieb3on']/li[2]\")))\n",
    "a.click()\n",
    "time.sleep(5)"
   ]
  },
  {
   "cell_type": "code",
   "execution_count": null,
   "id": "cefc1bb3",
   "metadata": {},
   "outputs": [],
   "source": [
    "a = wait.until(EC.presence_of_all_elements_located((By.XPATH, \"//span[@class = '_aacl _aaco _aacw _aacx _aad7 _aade']\")))\n",
    "for i in a:\n",
    "    print(i.text)\n",
    "time.sleep(3)\n",
    "close =  wait.until(EC.presence_of_element_located((By.XPATH,\"//button[@class='_abl-']\"))).click()"
   ]
  },
  {
   "cell_type": "code",
   "execution_count": null,
   "id": "7122262d",
   "metadata": {},
   "outputs": [],
   "source": [
    "a = wait.until(EC.presence_of_element_located((By.XPATH, \"//div[@class = 'x1iyjqo2 xh8yej3']/div[2]\")))\n",
    "a.click()"
   ]
  },
  {
   "cell_type": "code",
   "execution_count": null,
   "id": "c8508967",
   "metadata": {},
   "outputs": [],
   "source": [
    "c = wait.until(EC.presence_of_element_located((By.XPATH, \"//div[@class = 'xjoudau x6s0dn4 x78zum5 xdt5ytf x1c4vz4f xs83m0k xrf2nzk x1n2onr6 xh8yej3 x1hq5gj4']/input\")))\n",
    "c.send_keys(\"sodelhi\")\n",
    "time.sleep(5)"
   ]
  },
  {
   "cell_type": "code",
   "execution_count": null,
   "id": "963e198c",
   "metadata": {},
   "outputs": [],
   "source": [
    "a = wait.until(EC.presence_of_element_located((By.XPATH, \"//div[@class = 'x9f619 x78zum5 xdt5ytf x1iyjqo2 x6ikm8r x1odjw0f xh8yej3 xocp1fn']/a\")))\n",
    "a.click()\n",
    "time.sleep(5)"
   ]
  },
  {
   "cell_type": "code",
   "execution_count": null,
   "id": "cbb8aa6b",
   "metadata": {},
   "outputs": [],
   "source": [
    "a = wait.until(EC.presence_of_element_located((By.XPATH, \"//ul[@class = 'x78zum5 x1q0g3np xieb3on']/li[2]\")))\n",
    "a.click()\n",
    "time.sleep(5)"
   ]
  },
  {
   "cell_type": "code",
   "execution_count": null,
   "id": "9ff40a00",
   "metadata": {},
   "outputs": [],
   "source": [
    "a = wait.until(EC.presence_of_all_elements_located((By.XPATH, \"//span[@class = '_aacl _aaco _aacw _aacx _aad7 _aade']\")))\n",
    "for i in a:\n",
    "    print(i.text)\n",
    "close =  wait.until(EC.presence_of_element_located((By.XPATH,\"//button[@class='_abl-']\"))).click()\n",
    "time.sleep(3)"
   ]
  },
  {
   "cell_type": "markdown",
   "id": "bf6fddb2",
   "metadata": {},
   "source": [
    "### 2. Now print all the followers of “foodtalkindia” that you are following but those who don’t follow you."
   ]
  },
  {
   "cell_type": "code",
   "execution_count": null,
   "id": "98e47a08",
   "metadata": {},
   "outputs": [],
   "source": [
    "#printing all the followers of foodtalkindia that i am following\n",
    "\n",
    "a = wait.until(EC.presence_of_element_located((By.XPATH, \"//div[@class = 'x1iyjqo2 xh8yej3']/div[2]\")))\n",
    "a.click()\n",
    "\n",
    "c = wait.until(EC.presence_of_element_located((By.XPATH, \"//div[@class = 'xjoudau x6s0dn4 x78zum5 xdt5ytf x1c4vz4f xs83m0k xrf2nzk x1n2onr6 xh8yej3 x1hq5gj4']/input\")))\n",
    "c.send_keys(\"foodtalkindia\")\n",
    "time.sleep(5)\n",
    "\n",
    "a = wait.until(EC.presence_of_element_located((By.XPATH, \"//div[@class = 'x9f619 x78zum5 xdt5ytf x1iyjqo2 x6ikm8r x1odjw0f xh8yej3 xocp1fn']/a\")))\n",
    "a.click()\n",
    "time.sleep(5)\n",
    "\n",
    "a = wait.until(EC.presence_of_element_located((By.XPATH, \"//ul[@class = 'x78zum5 x1q0g3np xieb3on']/li[2]\")))\n",
    "a.click()\n",
    "time.sleep(5)\n",
    "\n",
    "\n",
    "foodtalkindia_followers = []\n",
    "a = wait.until(EC.presence_of_all_elements_located((By.XPATH, \"//div[@class = '_aacl _aaco _aacw _aad6 _aade']\")))\n",
    "for i in a:\n",
    "    if i.text=='Following':\n",
    "        a = driver.find_element(By.XPATH , \"//span[@class = '_aacl _aaco _aacw _aacx _aad7 _aade']\")\n",
    "        foodtalkindia_followers.append(a.text)\n",
    "driver.back()"
   ]
  },
  {
   "cell_type": "code",
   "execution_count": null,
   "id": "c8c8897f",
   "metadata": {},
   "outputs": [],
   "source": [
    "WebDriverWait(wait.until(EC.element_to_be_clickable((By.XPATH, '//div[contains(@class,\"_aano\")]'))))"
   ]
  },
  {
   "cell_type": "code",
   "execution_count": null,
   "id": "71bed855",
   "metadata": {},
   "outputs": [],
   "source": [
    "#my followers\n",
    "\n",
    "a = wait.until(EC.presence_of_element_located((By.XPATH, \"//div[@class = 'x1iyjqo2 xh8yej3']/div[8]\")))\n",
    "a.click()\n",
    "time.sleep(2)\n",
    "total_followers = driver.find_elements(By.CLASS_NAME,\"_ac2a\")[1]\n",
    "total_no = int(total_followers.text)\n",
    "a = wait.until(EC.presence_of_element_located((By.XPATH, \"//li[@class = 'xl565be x1m39q7l x1uw6ca5 x2pgyrj']/a\")))\n",
    "a.click()\n",
    "a = wait.until(EC.presence_of_all_elements_located((By.XPATH, \"//span[@class = '_aacl _aaco _aacw _aacx _aad7 _aade']\")))\n",
    "following_window = wait.until(EC.element_to_be_clickable((By.XPATH, '//div[contains(@class,\"_aano\")]'))) \n",
    "\n",
    "# Scroll till Followers list is there\n",
    "\n",
    "count = 0\n",
    "while True:\n",
    "    a = wait.until(EC.presence_of_all_elements_located((By.XPATH, \"//span[@class = '_aacl _aaco _aacw _aacx _aad7 _aade']\")))\n",
    "    if len(a)==total_no:\n",
    "        break\n",
    "    driver.execute_script('arguments[0].scrollTop = arguments[0].scrollTop + arguments[0].offsetHeight;',following_window)\n",
    "    time.sleep(1.5)\n",
    "    \n",
    "my_followers_list = []\n",
    "for i in a:\n",
    "    my_followers_list.append(i.text)\n",
    "driver.back()"
   ]
  },
  {
   "cell_type": "code",
   "execution_count": null,
   "id": "589258f9",
   "metadata": {},
   "outputs": [],
   "source": [
    "# checking that the those followers me or not...if not then print their id\n",
    "list1 = []\n",
    "for i in foodtalkindia_followers:\n",
    "    if i not in my_followers_list:\n",
    "        list1.append(i)\n",
    "if len(list1)==0:\n",
    "    print('No such followers are there')\n",
    "else:\n",
    "    for i in list1:\n",
    "        print(i)"
   ]
  },
  {
   "cell_type": "code",
   "execution_count": null,
   "id": "be4da525",
   "metadata": {},
   "outputs": [],
   "source": [
    "a = wait.until(EC.presence_of_all_elements_located((By.XPATH, \"//div[@class = '_aacl _aaco _aacw _aad6 _aade']\")))\n",
    "for i in a:\n",
    "    print(i.text)\n"
   ]
  },
  {
   "cell_type": "markdown",
   "id": "6a717f17",
   "metadata": {},
   "source": [
    "# Check the story of ‘coding.ninjas’. Consider the following Scenarios and print error messages accordingly -"
   ]
  },
  {
   "cell_type": "code",
   "execution_count": null,
   "id": "de6ae94c",
   "metadata": {},
   "outputs": [],
   "source": [
    "a = wait.until(EC.presence_of_element_located((By.XPATH, \"//div[@class = 'x1iyjqo2 xh8yej3']/div[2]\")))\n",
    "a.click()"
   ]
  },
  {
   "cell_type": "code",
   "execution_count": null,
   "id": "a63b123c",
   "metadata": {},
   "outputs": [],
   "source": [
    "c = wait.until(EC.presence_of_element_located((By.XPATH, \"//div[@class = 'xjoudau x6s0dn4 x78zum5 xdt5ytf x1c4vz4f xs83m0k xrf2nzk x1n2onr6 xh8yej3 x1hq5gj4']/input\")))\n",
    "c.send_keys(\"coding.ninjas\")\n",
    "time.sleep(5)"
   ]
  },
  {
   "cell_type": "code",
   "execution_count": null,
   "id": "e63c79bc",
   "metadata": {},
   "outputs": [],
   "source": [
    "a = wait.until(EC.presence_of_element_located((By.XPATH, \"//div[@class = 'x9f619 x78zum5 xdt5ytf x1iyjqo2 x6ikm8r x1odjw0f xh8yej3 xocp1fn']/a\")))\n",
    "a.click()\n",
    "time.sleep(5)"
   ]
  },
  {
   "cell_type": "code",
   "execution_count": null,
   "id": "d5e3a43a",
   "metadata": {},
   "outputs": [],
   "source": [
    "try:\n",
    "    a = wait.until(EC.presence_of_element_located((By.XPATH, \"//div[@class = '_aarf _aarg']\")))\n",
    "    b = wait.until(EC.presence_of_element_located((By.XPATH, \"//div[@class = '_aarf _aarg']/canvas\")))\n",
    "    x = a.get_attribute('aria-disabled')\n",
    "    y = b.get_attribute('height')\n",
    "    if x == 'false' and y == '208':\n",
    "        print('You have already seen the story!!')\n",
    "    elif x == 'false' and y == '210':\n",
    "        print('You have not the seen story yet!!.....Please check the story!!')\n",
    "        click_on_stroy = wait.until(EC.presence_of_element_located((By.XPATH, \"//div[@class = '_aarf _aarg']\")))\n",
    "        click_on_stroy.click()\n",
    "        \n",
    "except TimeoutException:\n",
    "    print('The user has no story')\n",
    "    "
   ]
  },
  {
   "cell_type": "code",
   "execution_count": null,
   "id": "5c6e2d4b",
   "metadata": {},
   "outputs": [],
   "source": []
  },
  {
   "cell_type": "code",
   "execution_count": null,
   "id": "fdb5f9a6",
   "metadata": {},
   "outputs": [],
   "source": []
  },
  {
   "cell_type": "code",
   "execution_count": null,
   "id": "a2d8c9e5",
   "metadata": {},
   "outputs": [],
   "source": []
  },
  {
   "cell_type": "code",
   "execution_count": null,
   "id": "35134c53",
   "metadata": {},
   "outputs": [],
   "source": []
  },
  {
   "cell_type": "code",
   "execution_count": null,
   "id": "a62a8173",
   "metadata": {},
   "outputs": [],
   "source": []
  },
  {
   "cell_type": "code",
   "execution_count": null,
   "id": "e0ec1324",
   "metadata": {},
   "outputs": [],
   "source": []
  },
  {
   "cell_type": "code",
   "execution_count": null,
   "id": "8661d5a3",
   "metadata": {},
   "outputs": [],
   "source": []
  },
  {
   "cell_type": "code",
   "execution_count": null,
   "id": "e8e54300",
   "metadata": {},
   "outputs": [],
   "source": []
  },
  {
   "cell_type": "code",
   "execution_count": null,
   "id": "befc1e7b",
   "metadata": {},
   "outputs": [],
   "source": []
  },
  {
   "cell_type": "code",
   "execution_count": null,
   "id": "ff80b204",
   "metadata": {},
   "outputs": [],
   "source": []
  },
  {
   "cell_type": "code",
   "execution_count": null,
   "id": "f3d8c16e",
   "metadata": {},
   "outputs": [],
   "source": []
  },
  {
   "cell_type": "code",
   "execution_count": null,
   "id": "888029c0",
   "metadata": {},
   "outputs": [],
   "source": []
  },
  {
   "cell_type": "code",
   "execution_count": null,
   "id": "8f8281d1",
   "metadata": {},
   "outputs": [],
   "source": []
  },
  {
   "cell_type": "code",
   "execution_count": null,
   "id": "156cf248",
   "metadata": {},
   "outputs": [],
   "source": []
  },
  {
   "cell_type": "code",
   "execution_count": null,
   "id": "0f0daebf",
   "metadata": {},
   "outputs": [],
   "source": []
  },
  {
   "cell_type": "code",
   "execution_count": null,
   "id": "74a002d4",
   "metadata": {},
   "outputs": [],
   "source": []
  },
  {
   "cell_type": "code",
   "execution_count": null,
   "id": "cabcaf34",
   "metadata": {},
   "outputs": [],
   "source": []
  },
  {
   "cell_type": "code",
   "execution_count": null,
   "id": "281be2ed",
   "metadata": {},
   "outputs": [],
   "source": []
  },
  {
   "cell_type": "code",
   "execution_count": null,
   "id": "e1fb7a37",
   "metadata": {},
   "outputs": [],
   "source": []
  },
  {
   "cell_type": "code",
   "execution_count": null,
   "id": "33bddeef",
   "metadata": {},
   "outputs": [],
   "source": []
  }
 ],
 "metadata": {
  "kernelspec": {
   "display_name": "Python 3 (ipykernel)",
   "language": "python",
   "name": "python3"
  },
  "language_info": {
   "codemirror_mode": {
    "name": "ipython",
    "version": 3
   },
   "file_extension": ".py",
   "mimetype": "text/x-python",
   "name": "python",
   "nbconvert_exporter": "python",
   "pygments_lexer": "ipython3",
   "version": "3.9.7"
  }
 },
 "nbformat": 4,
 "nbformat_minor": 5
}
